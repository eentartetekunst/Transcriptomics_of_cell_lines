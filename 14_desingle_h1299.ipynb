{
 "cells": [
  {
   "cell_type": "code",
   "execution_count": 1,
   "id": "bfe55b74-6757-407a-aece-195e4c6d8448",
   "metadata": {},
   "outputs": [
    {
     "name": "stderr",
     "output_type": "stream",
     "text": [
      "Loading required package: BiocManager\n",
      "\n",
      "Bioconductor version '3.16' is out-of-date; the current release version '3.17'\n",
      "  is available with R version '4.3'; see https://bioconductor.org/install\n",
      "\n",
      "'getOption(\"repos\")' replaces Bioconductor standard repositories, see\n",
      "'?repositories' for details\n",
      "\n",
      "replacement repositories:\n",
      "    CRAN: https://cran.r-project.org\n",
      "\n",
      "\n",
      "Bioconductor version 3.16 (BiocManager 1.30.19), R 4.2.2 (2022-10-31)\n",
      "\n",
      "Installing package(s) 'DEsingle'\n",
      "\n",
      "Warning message in install.packages(...):\n",
      "“'lib = \"~/local/R_libs/\"' is not writable”\n"
     ]
    },
    {
     "ename": "ERROR",
     "evalue": "Error in install.packages(...): unable to install packages\n",
     "output_type": "error",
     "traceback": [
      "Error in install.packages(...): unable to install packages\nTraceback:\n",
      "1. BiocManager::install(\"DEsingle\", lib = \"~/local/R_libs/\")",
      "2. .install(pkgs, vout[[\"out_of_date\"]], instPkgs = inst, repos = repos, \n .     checkBuilt = checkBuilt, update = update, ask = ask, force = force, \n .     ...)",
      "3. .install_repos(pkgs, old_pkgs, instPkgs = instPkgs, lib = lib, \n .     repos = repos, checkBuilt = checkBuilt, force = force, ...)",
      "4. .inet_install.packages(pkgs = doing, lib = lib, repos = repos, \n .     ...)",
      "5. withCallingHandlers({\n .     tryCatch({\n .         install.packages(...)\n .     }, error = function(e) {\n .         .inet_error(e)\n .         invisible(NULL)\n .     })\n . }, warning = function(w) {\n .     msg <- conditionMessage(w)\n .     if (grepl(\"not available\", msg)) {\n .         msg <- gsub(\"this version of R\", paste0(\"Bioconductor version \", \n .             \"'\", version(), \"'\"), msg)\n .         w <- simpleWarning(msg, conditionCall(w))\n .     }\n .     .inet_warning(w)\n . })",
      "6. tryCatch({\n .     install.packages(...)\n . }, error = function(e) {\n .     .inet_error(e)\n .     invisible(NULL)\n . })",
      "7. tryCatchList(expr, classes, parentenv, handlers)",
      "8. tryCatchOne(expr, names, parentenv, handlers[[1L]])",
      "9. value[[3L]](cond)",
      "10. .inet_error(e)"
     ]
    }
   ],
   "source": [
    "if(!require(BiocManager)) \n",
    "  install.packages(\"BiocManager\")\n",
    "\n",
    "# mkdir -p ~/local/R_libs\n",
    "\n",
    "BiocManager::install(\"DEsingle\", lib=\"~/local/R_libs/\")\n",
    "BiocManager::install(\"BiocParallel\", lib=\"~/local/R_libs/\")"
   ]
  },
  {
   "cell_type": "code",
   "execution_count": 2,
   "id": "609dcff4-54c1-4cfa-ba42-53d01a488978",
   "metadata": {},
   "outputs": [
    {
     "ename": "ERROR",
     "evalue": "Error in library(DEsingle, lib = \"~/local/R_libs/\"): no library trees found in 'lib.loc'\n",
     "output_type": "error",
     "traceback": [
      "Error in library(DEsingle, lib = \"~/local/R_libs/\"): no library trees found in 'lib.loc'\nTraceback:\n",
      "1. library(DEsingle, lib = \"~/local/R_libs/\")",
      "2. stop(txt, domain = NA)"
     ]
    }
   ],
   "source": [
    "library(DEsingle, lib=\"~/local/R_libs/\")\n",
    "library(BiocParallel, lib=\"~/local/R_libs/\")"
   ]
  },
  {
   "cell_type": "code",
   "execution_count": null,
   "id": "5be370d5",
   "metadata": {},
   "outputs": [],
   "source": []
  },
  {
   "cell_type": "code",
   "execution_count": 5,
   "id": "e4e7b9c9-2279-4bec-8a7e-499dc731b99e",
   "metadata": {},
   "outputs": [],
   "source": [
    "counts <- read.csv(file = 'h1299_36hpi.csv')"
   ]
  },
  {
   "cell_type": "code",
   "execution_count": 18,
   "id": "3fecc5f0-edc7-4c9d-837e-d6b99be000bd",
   "metadata": {},
   "outputs": [
    {
     "data": {
      "text/html": [
       "<table class=\"dataframe\">\n",
       "<caption>A data.frame: 6 × 13644</caption>\n",
       "<thead>\n",
       "\t<tr><th></th><th scope=col>X</th><th scope=col>H1299.S2.36h.A_AAAAACCCCCTC</th><th scope=col>H1299.S2.36h.A_AAAAAGCCTTGG</th><th scope=col>H1299.S2.36h.A_AAAAATTACCAA</th><th scope=col>H1299.S2.36h.A_AAAAATTTGATC</th><th scope=col>H1299.S2.36h.A_AAAACAAAACCC</th><th scope=col>H1299.S2.36h.A_AAAACATTATAA</th><th scope=col>H1299.S2.36h.A_AAAACCGGCCAC</th><th scope=col>H1299.S2.36h.A_AAAACCTACCGA</th><th scope=col>H1299.S2.36h.A_AAAACGCAGGAA</th><th scope=col>⋯</th><th scope=col>H1299.mock.4h.B_TTTGCTGAACGG</th><th scope=col>H1299.mock.4h.B_TTTGCTTCATTG</th><th scope=col>H1299.mock.4h.B_TTTGCTTGATTA</th><th scope=col>H1299.mock.4h.B_TTTGGGAACAAA</th><th scope=col>H1299.mock.4h.B_TTTGGTATGTCC</th><th scope=col>H1299.mock.4h.B_TTTGTCGAAACT</th><th scope=col>H1299.mock.4h.B_TTTTATCCACGA</th><th scope=col>H1299.mock.4h.B_TTTTCACACCGG</th><th scope=col>H1299.mock.4h.B_TTTTCGATTCAT</th><th scope=col>H1299.mock.4h.B_TTTTGTTTGCAT</th></tr>\n",
       "\t<tr><th></th><th scope=col>&lt;chr&gt;</th><th scope=col>&lt;dbl&gt;</th><th scope=col>&lt;dbl&gt;</th><th scope=col>&lt;dbl&gt;</th><th scope=col>&lt;dbl&gt;</th><th scope=col>&lt;dbl&gt;</th><th scope=col>&lt;dbl&gt;</th><th scope=col>&lt;dbl&gt;</th><th scope=col>&lt;dbl&gt;</th><th scope=col>&lt;dbl&gt;</th><th scope=col>⋯</th><th scope=col>&lt;dbl&gt;</th><th scope=col>&lt;dbl&gt;</th><th scope=col>&lt;dbl&gt;</th><th scope=col>&lt;dbl&gt;</th><th scope=col>&lt;dbl&gt;</th><th scope=col>&lt;dbl&gt;</th><th scope=col>&lt;dbl&gt;</th><th scope=col>&lt;dbl&gt;</th><th scope=col>&lt;dbl&gt;</th><th scope=col>&lt;dbl&gt;</th></tr>\n",
       "</thead>\n",
       "<tbody>\n",
       "\t<tr><th scope=row>ENSG00000146038</th><td>ENSG00000146038</td><td>0</td><td>0</td><td>0</td><td>0</td><td>0</td><td>0</td><td>0</td><td>0</td><td>0</td><td>⋯</td><td>0</td><td>0</td><td>0</td><td>0</td><td>0</td><td>0</td><td>0</td><td>0</td><td>0</td><td>0</td></tr>\n",
       "\t<tr><th scope=row>ENSG00000136536</th><td>ENSG00000136536</td><td>0</td><td>0</td><td>2</td><td>0</td><td>0</td><td>0</td><td>0</td><td>1</td><td>1</td><td>⋯</td><td>0</td><td>0</td><td>1</td><td>0</td><td>2</td><td>0</td><td>0</td><td>0</td><td>0</td><td>1</td></tr>\n",
       "\t<tr><th scope=row>ENSG00000203809</th><td>ENSG00000203809</td><td>0</td><td>0</td><td>0</td><td>0</td><td>0</td><td>0</td><td>0</td><td>0</td><td>0</td><td>⋯</td><td>0</td><td>0</td><td>0</td><td>0</td><td>0</td><td>0</td><td>0</td><td>0</td><td>0</td><td>0</td></tr>\n",
       "\t<tr><th scope=row>ENSG00000116679</th><td>ENSG00000116679</td><td>0</td><td>0</td><td>0</td><td>0</td><td>0</td><td>0</td><td>0</td><td>1</td><td>0</td><td>⋯</td><td>0</td><td>0</td><td>0</td><td>0</td><td>4</td><td>0</td><td>0</td><td>0</td><td>0</td><td>0</td></tr>\n",
       "\t<tr><th scope=row>ENSG00000160360</th><td>ENSG00000160360</td><td>0</td><td>0</td><td>0</td><td>0</td><td>0</td><td>0</td><td>0</td><td>0</td><td>1</td><td>⋯</td><td>0</td><td>0</td><td>0</td><td>0</td><td>0</td><td>0</td><td>0</td><td>0</td><td>0</td><td>0</td></tr>\n",
       "\t<tr><th scope=row>ENSG00000165282</th><td>ENSG00000165282</td><td>1</td><td>0</td><td>0</td><td>0</td><td>0</td><td>0</td><td>0</td><td>0</td><td>0</td><td>⋯</td><td>0</td><td>1</td><td>0</td><td>0</td><td>1</td><td>0</td><td>0</td><td>0</td><td>0</td><td>3</td></tr>\n",
       "</tbody>\n",
       "</table>\n"
      ],
      "text/latex": [
       "A data.frame: 6 × 13644\n",
       "\\begin{tabular}{r|lllllllllllllllllllll}\n",
       "  & X & H1299.S2.36h.A\\_AAAAACCCCCTC & H1299.S2.36h.A\\_AAAAAGCCTTGG & H1299.S2.36h.A\\_AAAAATTACCAA & H1299.S2.36h.A\\_AAAAATTTGATC & H1299.S2.36h.A\\_AAAACAAAACCC & H1299.S2.36h.A\\_AAAACATTATAA & H1299.S2.36h.A\\_AAAACCGGCCAC & H1299.S2.36h.A\\_AAAACCTACCGA & H1299.S2.36h.A\\_AAAACGCAGGAA & ⋯ & H1299.mock.4h.B\\_TTTGCTGAACGG & H1299.mock.4h.B\\_TTTGCTTCATTG & H1299.mock.4h.B\\_TTTGCTTGATTA & H1299.mock.4h.B\\_TTTGGGAACAAA & H1299.mock.4h.B\\_TTTGGTATGTCC & H1299.mock.4h.B\\_TTTGTCGAAACT & H1299.mock.4h.B\\_TTTTATCCACGA & H1299.mock.4h.B\\_TTTTCACACCGG & H1299.mock.4h.B\\_TTTTCGATTCAT & H1299.mock.4h.B\\_TTTTGTTTGCAT\\\\\n",
       "  & <chr> & <dbl> & <dbl> & <dbl> & <dbl> & <dbl> & <dbl> & <dbl> & <dbl> & <dbl> & ⋯ & <dbl> & <dbl> & <dbl> & <dbl> & <dbl> & <dbl> & <dbl> & <dbl> & <dbl> & <dbl>\\\\\n",
       "\\hline\n",
       "\tENSG00000146038 & ENSG00000146038 & 0 & 0 & 0 & 0 & 0 & 0 & 0 & 0 & 0 & ⋯ & 0 & 0 & 0 & 0 & 0 & 0 & 0 & 0 & 0 & 0\\\\\n",
       "\tENSG00000136536 & ENSG00000136536 & 0 & 0 & 2 & 0 & 0 & 0 & 0 & 1 & 1 & ⋯ & 0 & 0 & 1 & 0 & 2 & 0 & 0 & 0 & 0 & 1\\\\\n",
       "\tENSG00000203809 & ENSG00000203809 & 0 & 0 & 0 & 0 & 0 & 0 & 0 & 0 & 0 & ⋯ & 0 & 0 & 0 & 0 & 0 & 0 & 0 & 0 & 0 & 0\\\\\n",
       "\tENSG00000116679 & ENSG00000116679 & 0 & 0 & 0 & 0 & 0 & 0 & 0 & 1 & 0 & ⋯ & 0 & 0 & 0 & 0 & 4 & 0 & 0 & 0 & 0 & 0\\\\\n",
       "\tENSG00000160360 & ENSG00000160360 & 0 & 0 & 0 & 0 & 0 & 0 & 0 & 0 & 1 & ⋯ & 0 & 0 & 0 & 0 & 0 & 0 & 0 & 0 & 0 & 0\\\\\n",
       "\tENSG00000165282 & ENSG00000165282 & 1 & 0 & 0 & 0 & 0 & 0 & 0 & 0 & 0 & ⋯ & 0 & 1 & 0 & 0 & 1 & 0 & 0 & 0 & 0 & 3\\\\\n",
       "\\end{tabular}\n"
      ],
      "text/markdown": [
       "\n",
       "A data.frame: 6 × 13644\n",
       "\n",
       "| <!--/--> | X &lt;chr&gt; | H1299.S2.36h.A_AAAAACCCCCTC &lt;dbl&gt; | H1299.S2.36h.A_AAAAAGCCTTGG &lt;dbl&gt; | H1299.S2.36h.A_AAAAATTACCAA &lt;dbl&gt; | H1299.S2.36h.A_AAAAATTTGATC &lt;dbl&gt; | H1299.S2.36h.A_AAAACAAAACCC &lt;dbl&gt; | H1299.S2.36h.A_AAAACATTATAA &lt;dbl&gt; | H1299.S2.36h.A_AAAACCGGCCAC &lt;dbl&gt; | H1299.S2.36h.A_AAAACCTACCGA &lt;dbl&gt; | H1299.S2.36h.A_AAAACGCAGGAA &lt;dbl&gt; | ⋯ ⋯ | H1299.mock.4h.B_TTTGCTGAACGG &lt;dbl&gt; | H1299.mock.4h.B_TTTGCTTCATTG &lt;dbl&gt; | H1299.mock.4h.B_TTTGCTTGATTA &lt;dbl&gt; | H1299.mock.4h.B_TTTGGGAACAAA &lt;dbl&gt; | H1299.mock.4h.B_TTTGGTATGTCC &lt;dbl&gt; | H1299.mock.4h.B_TTTGTCGAAACT &lt;dbl&gt; | H1299.mock.4h.B_TTTTATCCACGA &lt;dbl&gt; | H1299.mock.4h.B_TTTTCACACCGG &lt;dbl&gt; | H1299.mock.4h.B_TTTTCGATTCAT &lt;dbl&gt; | H1299.mock.4h.B_TTTTGTTTGCAT &lt;dbl&gt; |\n",
       "|---|---|---|---|---|---|---|---|---|---|---|---|---|---|---|---|---|---|---|---|---|---|\n",
       "| ENSG00000146038 | ENSG00000146038 | 0 | 0 | 0 | 0 | 0 | 0 | 0 | 0 | 0 | ⋯ | 0 | 0 | 0 | 0 | 0 | 0 | 0 | 0 | 0 | 0 |\n",
       "| ENSG00000136536 | ENSG00000136536 | 0 | 0 | 2 | 0 | 0 | 0 | 0 | 1 | 1 | ⋯ | 0 | 0 | 1 | 0 | 2 | 0 | 0 | 0 | 0 | 1 |\n",
       "| ENSG00000203809 | ENSG00000203809 | 0 | 0 | 0 | 0 | 0 | 0 | 0 | 0 | 0 | ⋯ | 0 | 0 | 0 | 0 | 0 | 0 | 0 | 0 | 0 | 0 |\n",
       "| ENSG00000116679 | ENSG00000116679 | 0 | 0 | 0 | 0 | 0 | 0 | 0 | 1 | 0 | ⋯ | 0 | 0 | 0 | 0 | 4 | 0 | 0 | 0 | 0 | 0 |\n",
       "| ENSG00000160360 | ENSG00000160360 | 0 | 0 | 0 | 0 | 0 | 0 | 0 | 0 | 1 | ⋯ | 0 | 0 | 0 | 0 | 0 | 0 | 0 | 0 | 0 | 0 |\n",
       "| ENSG00000165282 | ENSG00000165282 | 1 | 0 | 0 | 0 | 0 | 0 | 0 | 0 | 0 | ⋯ | 0 | 1 | 0 | 0 | 1 | 0 | 0 | 0 | 0 | 3 |\n",
       "\n"
      ],
      "text/plain": [
       "                X               H1299.S2.36h.A_AAAAACCCCCTC\n",
       "ENSG00000146038 ENSG00000146038 0                          \n",
       "ENSG00000136536 ENSG00000136536 0                          \n",
       "ENSG00000203809 ENSG00000203809 0                          \n",
       "ENSG00000116679 ENSG00000116679 0                          \n",
       "ENSG00000160360 ENSG00000160360 0                          \n",
       "ENSG00000165282 ENSG00000165282 1                          \n",
       "                H1299.S2.36h.A_AAAAAGCCTTGG H1299.S2.36h.A_AAAAATTACCAA\n",
       "ENSG00000146038 0                           0                          \n",
       "ENSG00000136536 0                           2                          \n",
       "ENSG00000203809 0                           0                          \n",
       "ENSG00000116679 0                           0                          \n",
       "ENSG00000160360 0                           0                          \n",
       "ENSG00000165282 0                           0                          \n",
       "                H1299.S2.36h.A_AAAAATTTGATC H1299.S2.36h.A_AAAACAAAACCC\n",
       "ENSG00000146038 0                           0                          \n",
       "ENSG00000136536 0                           0                          \n",
       "ENSG00000203809 0                           0                          \n",
       "ENSG00000116679 0                           0                          \n",
       "ENSG00000160360 0                           0                          \n",
       "ENSG00000165282 0                           0                          \n",
       "                H1299.S2.36h.A_AAAACATTATAA H1299.S2.36h.A_AAAACCGGCCAC\n",
       "ENSG00000146038 0                           0                          \n",
       "ENSG00000136536 0                           0                          \n",
       "ENSG00000203809 0                           0                          \n",
       "ENSG00000116679 0                           0                          \n",
       "ENSG00000160360 0                           0                          \n",
       "ENSG00000165282 0                           0                          \n",
       "                H1299.S2.36h.A_AAAACCTACCGA H1299.S2.36h.A_AAAACGCAGGAA ⋯\n",
       "ENSG00000146038 0                           0                           ⋯\n",
       "ENSG00000136536 1                           1                           ⋯\n",
       "ENSG00000203809 0                           0                           ⋯\n",
       "ENSG00000116679 1                           0                           ⋯\n",
       "ENSG00000160360 0                           1                           ⋯\n",
       "ENSG00000165282 0                           0                           ⋯\n",
       "                H1299.mock.4h.B_TTTGCTGAACGG H1299.mock.4h.B_TTTGCTTCATTG\n",
       "ENSG00000146038 0                            0                           \n",
       "ENSG00000136536 0                            0                           \n",
       "ENSG00000203809 0                            0                           \n",
       "ENSG00000116679 0                            0                           \n",
       "ENSG00000160360 0                            0                           \n",
       "ENSG00000165282 0                            1                           \n",
       "                H1299.mock.4h.B_TTTGCTTGATTA H1299.mock.4h.B_TTTGGGAACAAA\n",
       "ENSG00000146038 0                            0                           \n",
       "ENSG00000136536 1                            0                           \n",
       "ENSG00000203809 0                            0                           \n",
       "ENSG00000116679 0                            0                           \n",
       "ENSG00000160360 0                            0                           \n",
       "ENSG00000165282 0                            0                           \n",
       "                H1299.mock.4h.B_TTTGGTATGTCC H1299.mock.4h.B_TTTGTCGAAACT\n",
       "ENSG00000146038 0                            0                           \n",
       "ENSG00000136536 2                            0                           \n",
       "ENSG00000203809 0                            0                           \n",
       "ENSG00000116679 4                            0                           \n",
       "ENSG00000160360 0                            0                           \n",
       "ENSG00000165282 1                            0                           \n",
       "                H1299.mock.4h.B_TTTTATCCACGA H1299.mock.4h.B_TTTTCACACCGG\n",
       "ENSG00000146038 0                            0                           \n",
       "ENSG00000136536 0                            0                           \n",
       "ENSG00000203809 0                            0                           \n",
       "ENSG00000116679 0                            0                           \n",
       "ENSG00000160360 0                            0                           \n",
       "ENSG00000165282 0                            0                           \n",
       "                H1299.mock.4h.B_TTTTCGATTCAT H1299.mock.4h.B_TTTTGTTTGCAT\n",
       "ENSG00000146038 0                            0                           \n",
       "ENSG00000136536 0                            1                           \n",
       "ENSG00000203809 0                            0                           \n",
       "ENSG00000116679 0                            0                           \n",
       "ENSG00000160360 0                            0                           \n",
       "ENSG00000165282 0                            3                           "
      ]
     },
     "metadata": {},
     "output_type": "display_data"
    }
   ],
   "source": [
    "rownames(counts) <- counts$X\n",
    "head(counts)"
   ]
  },
  {
   "cell_type": "code",
   "execution_count": 19,
   "id": "12c689ae-6c45-48ff-89f5-85354762d87f",
   "metadata": {},
   "outputs": [],
   "source": [
    "drop <- c(\"X\")\n",
    "counts = counts[,!(names(counts) %in% drop)]"
   ]
  },
  {
   "cell_type": "code",
   "execution_count": 20,
   "id": "78ebc021-7438-4556-9b08-b704ad1c29dd",
   "metadata": {},
   "outputs": [
    {
     "data": {
      "text/html": [
       "<table class=\"dataframe\">\n",
       "<caption>A data.frame: 6 × 13643</caption>\n",
       "<thead>\n",
       "\t<tr><th></th><th scope=col>H1299.S2.36h.A_AAAAACCCCCTC</th><th scope=col>H1299.S2.36h.A_AAAAAGCCTTGG</th><th scope=col>H1299.S2.36h.A_AAAAATTACCAA</th><th scope=col>H1299.S2.36h.A_AAAAATTTGATC</th><th scope=col>H1299.S2.36h.A_AAAACAAAACCC</th><th scope=col>H1299.S2.36h.A_AAAACATTATAA</th><th scope=col>H1299.S2.36h.A_AAAACCGGCCAC</th><th scope=col>H1299.S2.36h.A_AAAACCTACCGA</th><th scope=col>H1299.S2.36h.A_AAAACGCAGGAA</th><th scope=col>H1299.S2.36h.A_AAAACTAACGCA</th><th scope=col>⋯</th><th scope=col>H1299.mock.4h.B_TTTGCTGAACGG</th><th scope=col>H1299.mock.4h.B_TTTGCTTCATTG</th><th scope=col>H1299.mock.4h.B_TTTGCTTGATTA</th><th scope=col>H1299.mock.4h.B_TTTGGGAACAAA</th><th scope=col>H1299.mock.4h.B_TTTGGTATGTCC</th><th scope=col>H1299.mock.4h.B_TTTGTCGAAACT</th><th scope=col>H1299.mock.4h.B_TTTTATCCACGA</th><th scope=col>H1299.mock.4h.B_TTTTCACACCGG</th><th scope=col>H1299.mock.4h.B_TTTTCGATTCAT</th><th scope=col>H1299.mock.4h.B_TTTTGTTTGCAT</th></tr>\n",
       "\t<tr><th></th><th scope=col>&lt;dbl&gt;</th><th scope=col>&lt;dbl&gt;</th><th scope=col>&lt;dbl&gt;</th><th scope=col>&lt;dbl&gt;</th><th scope=col>&lt;dbl&gt;</th><th scope=col>&lt;dbl&gt;</th><th scope=col>&lt;dbl&gt;</th><th scope=col>&lt;dbl&gt;</th><th scope=col>&lt;dbl&gt;</th><th scope=col>&lt;dbl&gt;</th><th scope=col>⋯</th><th scope=col>&lt;dbl&gt;</th><th scope=col>&lt;dbl&gt;</th><th scope=col>&lt;dbl&gt;</th><th scope=col>&lt;dbl&gt;</th><th scope=col>&lt;dbl&gt;</th><th scope=col>&lt;dbl&gt;</th><th scope=col>&lt;dbl&gt;</th><th scope=col>&lt;dbl&gt;</th><th scope=col>&lt;dbl&gt;</th><th scope=col>&lt;dbl&gt;</th></tr>\n",
       "</thead>\n",
       "<tbody>\n",
       "\t<tr><th scope=row>ENSG00000146038</th><td>0</td><td>0</td><td>0</td><td>0</td><td>0</td><td>0</td><td>0</td><td>0</td><td>0</td><td>0</td><td>⋯</td><td>0</td><td>0</td><td>0</td><td>0</td><td>0</td><td>0</td><td>0</td><td>0</td><td>0</td><td>0</td></tr>\n",
       "\t<tr><th scope=row>ENSG00000136536</th><td>0</td><td>0</td><td>2</td><td>0</td><td>0</td><td>0</td><td>0</td><td>1</td><td>1</td><td>0</td><td>⋯</td><td>0</td><td>0</td><td>1</td><td>0</td><td>2</td><td>0</td><td>0</td><td>0</td><td>0</td><td>1</td></tr>\n",
       "\t<tr><th scope=row>ENSG00000203809</th><td>0</td><td>0</td><td>0</td><td>0</td><td>0</td><td>0</td><td>0</td><td>0</td><td>0</td><td>0</td><td>⋯</td><td>0</td><td>0</td><td>0</td><td>0</td><td>0</td><td>0</td><td>0</td><td>0</td><td>0</td><td>0</td></tr>\n",
       "\t<tr><th scope=row>ENSG00000116679</th><td>0</td><td>0</td><td>0</td><td>0</td><td>0</td><td>0</td><td>0</td><td>1</td><td>0</td><td>0</td><td>⋯</td><td>0</td><td>0</td><td>0</td><td>0</td><td>4</td><td>0</td><td>0</td><td>0</td><td>0</td><td>0</td></tr>\n",
       "\t<tr><th scope=row>ENSG00000160360</th><td>0</td><td>0</td><td>0</td><td>0</td><td>0</td><td>0</td><td>0</td><td>0</td><td>1</td><td>0</td><td>⋯</td><td>0</td><td>0</td><td>0</td><td>0</td><td>0</td><td>0</td><td>0</td><td>0</td><td>0</td><td>0</td></tr>\n",
       "\t<tr><th scope=row>ENSG00000165282</th><td>1</td><td>0</td><td>0</td><td>0</td><td>0</td><td>0</td><td>0</td><td>0</td><td>0</td><td>0</td><td>⋯</td><td>0</td><td>1</td><td>0</td><td>0</td><td>1</td><td>0</td><td>0</td><td>0</td><td>0</td><td>3</td></tr>\n",
       "</tbody>\n",
       "</table>\n"
      ],
      "text/latex": [
       "A data.frame: 6 × 13643\n",
       "\\begin{tabular}{r|lllllllllllllllllllll}\n",
       "  & H1299.S2.36h.A\\_AAAAACCCCCTC & H1299.S2.36h.A\\_AAAAAGCCTTGG & H1299.S2.36h.A\\_AAAAATTACCAA & H1299.S2.36h.A\\_AAAAATTTGATC & H1299.S2.36h.A\\_AAAACAAAACCC & H1299.S2.36h.A\\_AAAACATTATAA & H1299.S2.36h.A\\_AAAACCGGCCAC & H1299.S2.36h.A\\_AAAACCTACCGA & H1299.S2.36h.A\\_AAAACGCAGGAA & H1299.S2.36h.A\\_AAAACTAACGCA & ⋯ & H1299.mock.4h.B\\_TTTGCTGAACGG & H1299.mock.4h.B\\_TTTGCTTCATTG & H1299.mock.4h.B\\_TTTGCTTGATTA & H1299.mock.4h.B\\_TTTGGGAACAAA & H1299.mock.4h.B\\_TTTGGTATGTCC & H1299.mock.4h.B\\_TTTGTCGAAACT & H1299.mock.4h.B\\_TTTTATCCACGA & H1299.mock.4h.B\\_TTTTCACACCGG & H1299.mock.4h.B\\_TTTTCGATTCAT & H1299.mock.4h.B\\_TTTTGTTTGCAT\\\\\n",
       "  & <dbl> & <dbl> & <dbl> & <dbl> & <dbl> & <dbl> & <dbl> & <dbl> & <dbl> & <dbl> & ⋯ & <dbl> & <dbl> & <dbl> & <dbl> & <dbl> & <dbl> & <dbl> & <dbl> & <dbl> & <dbl>\\\\\n",
       "\\hline\n",
       "\tENSG00000146038 & 0 & 0 & 0 & 0 & 0 & 0 & 0 & 0 & 0 & 0 & ⋯ & 0 & 0 & 0 & 0 & 0 & 0 & 0 & 0 & 0 & 0\\\\\n",
       "\tENSG00000136536 & 0 & 0 & 2 & 0 & 0 & 0 & 0 & 1 & 1 & 0 & ⋯ & 0 & 0 & 1 & 0 & 2 & 0 & 0 & 0 & 0 & 1\\\\\n",
       "\tENSG00000203809 & 0 & 0 & 0 & 0 & 0 & 0 & 0 & 0 & 0 & 0 & ⋯ & 0 & 0 & 0 & 0 & 0 & 0 & 0 & 0 & 0 & 0\\\\\n",
       "\tENSG00000116679 & 0 & 0 & 0 & 0 & 0 & 0 & 0 & 1 & 0 & 0 & ⋯ & 0 & 0 & 0 & 0 & 4 & 0 & 0 & 0 & 0 & 0\\\\\n",
       "\tENSG00000160360 & 0 & 0 & 0 & 0 & 0 & 0 & 0 & 0 & 1 & 0 & ⋯ & 0 & 0 & 0 & 0 & 0 & 0 & 0 & 0 & 0 & 0\\\\\n",
       "\tENSG00000165282 & 1 & 0 & 0 & 0 & 0 & 0 & 0 & 0 & 0 & 0 & ⋯ & 0 & 1 & 0 & 0 & 1 & 0 & 0 & 0 & 0 & 3\\\\\n",
       "\\end{tabular}\n"
      ],
      "text/markdown": [
       "\n",
       "A data.frame: 6 × 13643\n",
       "\n",
       "| <!--/--> | H1299.S2.36h.A_AAAAACCCCCTC &lt;dbl&gt; | H1299.S2.36h.A_AAAAAGCCTTGG &lt;dbl&gt; | H1299.S2.36h.A_AAAAATTACCAA &lt;dbl&gt; | H1299.S2.36h.A_AAAAATTTGATC &lt;dbl&gt; | H1299.S2.36h.A_AAAACAAAACCC &lt;dbl&gt; | H1299.S2.36h.A_AAAACATTATAA &lt;dbl&gt; | H1299.S2.36h.A_AAAACCGGCCAC &lt;dbl&gt; | H1299.S2.36h.A_AAAACCTACCGA &lt;dbl&gt; | H1299.S2.36h.A_AAAACGCAGGAA &lt;dbl&gt; | H1299.S2.36h.A_AAAACTAACGCA &lt;dbl&gt; | ⋯ ⋯ | H1299.mock.4h.B_TTTGCTGAACGG &lt;dbl&gt; | H1299.mock.4h.B_TTTGCTTCATTG &lt;dbl&gt; | H1299.mock.4h.B_TTTGCTTGATTA &lt;dbl&gt; | H1299.mock.4h.B_TTTGGGAACAAA &lt;dbl&gt; | H1299.mock.4h.B_TTTGGTATGTCC &lt;dbl&gt; | H1299.mock.4h.B_TTTGTCGAAACT &lt;dbl&gt; | H1299.mock.4h.B_TTTTATCCACGA &lt;dbl&gt; | H1299.mock.4h.B_TTTTCACACCGG &lt;dbl&gt; | H1299.mock.4h.B_TTTTCGATTCAT &lt;dbl&gt; | H1299.mock.4h.B_TTTTGTTTGCAT &lt;dbl&gt; |\n",
       "|---|---|---|---|---|---|---|---|---|---|---|---|---|---|---|---|---|---|---|---|---|---|\n",
       "| ENSG00000146038 | 0 | 0 | 0 | 0 | 0 | 0 | 0 | 0 | 0 | 0 | ⋯ | 0 | 0 | 0 | 0 | 0 | 0 | 0 | 0 | 0 | 0 |\n",
       "| ENSG00000136536 | 0 | 0 | 2 | 0 | 0 | 0 | 0 | 1 | 1 | 0 | ⋯ | 0 | 0 | 1 | 0 | 2 | 0 | 0 | 0 | 0 | 1 |\n",
       "| ENSG00000203809 | 0 | 0 | 0 | 0 | 0 | 0 | 0 | 0 | 0 | 0 | ⋯ | 0 | 0 | 0 | 0 | 0 | 0 | 0 | 0 | 0 | 0 |\n",
       "| ENSG00000116679 | 0 | 0 | 0 | 0 | 0 | 0 | 0 | 1 | 0 | 0 | ⋯ | 0 | 0 | 0 | 0 | 4 | 0 | 0 | 0 | 0 | 0 |\n",
       "| ENSG00000160360 | 0 | 0 | 0 | 0 | 0 | 0 | 0 | 0 | 1 | 0 | ⋯ | 0 | 0 | 0 | 0 | 0 | 0 | 0 | 0 | 0 | 0 |\n",
       "| ENSG00000165282 | 1 | 0 | 0 | 0 | 0 | 0 | 0 | 0 | 0 | 0 | ⋯ | 0 | 1 | 0 | 0 | 1 | 0 | 0 | 0 | 0 | 3 |\n",
       "\n"
      ],
      "text/plain": [
       "                H1299.S2.36h.A_AAAAACCCCCTC H1299.S2.36h.A_AAAAAGCCTTGG\n",
       "ENSG00000146038 0                           0                          \n",
       "ENSG00000136536 0                           0                          \n",
       "ENSG00000203809 0                           0                          \n",
       "ENSG00000116679 0                           0                          \n",
       "ENSG00000160360 0                           0                          \n",
       "ENSG00000165282 1                           0                          \n",
       "                H1299.S2.36h.A_AAAAATTACCAA H1299.S2.36h.A_AAAAATTTGATC\n",
       "ENSG00000146038 0                           0                          \n",
       "ENSG00000136536 2                           0                          \n",
       "ENSG00000203809 0                           0                          \n",
       "ENSG00000116679 0                           0                          \n",
       "ENSG00000160360 0                           0                          \n",
       "ENSG00000165282 0                           0                          \n",
       "                H1299.S2.36h.A_AAAACAAAACCC H1299.S2.36h.A_AAAACATTATAA\n",
       "ENSG00000146038 0                           0                          \n",
       "ENSG00000136536 0                           0                          \n",
       "ENSG00000203809 0                           0                          \n",
       "ENSG00000116679 0                           0                          \n",
       "ENSG00000160360 0                           0                          \n",
       "ENSG00000165282 0                           0                          \n",
       "                H1299.S2.36h.A_AAAACCGGCCAC H1299.S2.36h.A_AAAACCTACCGA\n",
       "ENSG00000146038 0                           0                          \n",
       "ENSG00000136536 0                           1                          \n",
       "ENSG00000203809 0                           0                          \n",
       "ENSG00000116679 0                           1                          \n",
       "ENSG00000160360 0                           0                          \n",
       "ENSG00000165282 0                           0                          \n",
       "                H1299.S2.36h.A_AAAACGCAGGAA H1299.S2.36h.A_AAAACTAACGCA ⋯\n",
       "ENSG00000146038 0                           0                           ⋯\n",
       "ENSG00000136536 1                           0                           ⋯\n",
       "ENSG00000203809 0                           0                           ⋯\n",
       "ENSG00000116679 0                           0                           ⋯\n",
       "ENSG00000160360 1                           0                           ⋯\n",
       "ENSG00000165282 0                           0                           ⋯\n",
       "                H1299.mock.4h.B_TTTGCTGAACGG H1299.mock.4h.B_TTTGCTTCATTG\n",
       "ENSG00000146038 0                            0                           \n",
       "ENSG00000136536 0                            0                           \n",
       "ENSG00000203809 0                            0                           \n",
       "ENSG00000116679 0                            0                           \n",
       "ENSG00000160360 0                            0                           \n",
       "ENSG00000165282 0                            1                           \n",
       "                H1299.mock.4h.B_TTTGCTTGATTA H1299.mock.4h.B_TTTGGGAACAAA\n",
       "ENSG00000146038 0                            0                           \n",
       "ENSG00000136536 1                            0                           \n",
       "ENSG00000203809 0                            0                           \n",
       "ENSG00000116679 0                            0                           \n",
       "ENSG00000160360 0                            0                           \n",
       "ENSG00000165282 0                            0                           \n",
       "                H1299.mock.4h.B_TTTGGTATGTCC H1299.mock.4h.B_TTTGTCGAAACT\n",
       "ENSG00000146038 0                            0                           \n",
       "ENSG00000136536 2                            0                           \n",
       "ENSG00000203809 0                            0                           \n",
       "ENSG00000116679 4                            0                           \n",
       "ENSG00000160360 0                            0                           \n",
       "ENSG00000165282 1                            0                           \n",
       "                H1299.mock.4h.B_TTTTATCCACGA H1299.mock.4h.B_TTTTCACACCGG\n",
       "ENSG00000146038 0                            0                           \n",
       "ENSG00000136536 0                            0                           \n",
       "ENSG00000203809 0                            0                           \n",
       "ENSG00000116679 0                            0                           \n",
       "ENSG00000160360 0                            0                           \n",
       "ENSG00000165282 0                            0                           \n",
       "                H1299.mock.4h.B_TTTTCGATTCAT H1299.mock.4h.B_TTTTGTTTGCAT\n",
       "ENSG00000146038 0                            0                           \n",
       "ENSG00000136536 0                            1                           \n",
       "ENSG00000203809 0                            0                           \n",
       "ENSG00000116679 0                            0                           \n",
       "ENSG00000160360 0                            0                           \n",
       "ENSG00000165282 0                            3                           "
      ]
     },
     "metadata": {},
     "output_type": "display_data"
    }
   ],
   "source": [
    "head(counts)"
   ]
  },
  {
   "cell_type": "code",
   "execution_count": null,
   "id": "3cf0e0cc",
   "metadata": {},
   "outputs": [],
   "source": []
  },
  {
   "cell_type": "code",
   "execution_count": 21,
   "id": "86006e0f-f7e6-4679-b2e2-df7f521a9b20",
   "metadata": {},
   "outputs": [],
   "source": [
    "# exp <- 11558 # the number of S2 samples in the columns at 8 hpi in CALU3\n",
    "# mock <- 9829 # the number of mock samples in the columns at 8 hpi in CALU3\n",
    "\n",
    "#exp <- 4685 # the number of S2 samples in the columns at 12 hpi in CALU3\n",
    "#mock <- 6683 # the number of mock samples in the columns at 12 hpi in CALU3\n",
    "\n",
    "# exp <- 12125 # the number of S2 samples in the columns at 12 hpi in H1299\n",
    "# mock <- 4261 # the number of mock samples in the columns at 12 hpi in H1299\n",
    "\n",
    "# exp <- 8780 # the number of S2 samples in the columns at 24 hpi in H1299\n",
    "# mock <- 4261 # the number of mock samples in the columns at 24 hpi in H1299\n",
    "\n",
    "exp <- 9382 # the number of S2 samples in the columns at 36 hpi in H1299\n",
    "mock <- 4261 # the number of mock samples in the columns at 36 hpi in H1299\n",
    "\n",
    "\n",
    "\n",
    "\n",
    "group <- factor(c(rep(1,exp), rep(2,mock)))"
   ]
  },
  {
   "cell_type": "code",
   "execution_count": 22,
   "id": "88e3a03f-f831-4dcf-822e-3a3a628651fa",
   "metadata": {},
   "outputs": [],
   "source": [
    "# Set the parameters and register the back-end to be used\n",
    "param <- MulticoreParam(workers = 16, progressbar = TRUE)\n",
    "register(param)"
   ]
  },
  {
   "cell_type": "code",
   "execution_count": 23,
   "id": "8eb7a64a-5859-47f4-8eee-222fbf8b77af",
   "metadata": {},
   "outputs": [],
   "source": [
    "counts <- na.omit(counts)"
   ]
  },
  {
   "cell_type": "code",
   "execution_count": 24,
   "id": "fd78408d-b96e-41ab-9b89-690403e1538f",
   "metadata": {},
   "outputs": [
    {
     "name": "stderr",
     "output_type": "stream",
     "text": [
      "Removing 2 rows of genes with all zero counts\n",
      "\n",
      "Normalizing the data\n",
      "\n",
      "DEsingle is analyzing 15643 expressed genes in parallel\n",
      "\n"
     ]
    },
    {
     "name": "stdout",
     "output_type": "stream",
     "text": [
      "  |======================================================================| 100%\n",
      "\n"
     ]
    }
   ],
   "source": [
    "# Detecting the DE genes\n",
    "results <- DEsingle(counts = counts, group = group, parallel = TRUE, BPPARAM = param) # , parallel = TRUE, BPPARAM = param"
   ]
  },
  {
   "cell_type": "code",
   "execution_count": null,
   "id": "c81a0e06-5290-48ca-ad1f-4457d068cc22",
   "metadata": {},
   "outputs": [],
   "source": [
    "# Dividing the DE genes into 3 categories at threshold of FDR < 0.05\n",
    "results.classified <- DEtype(results = results, threshold = 0.05)"
   ]
  },
  {
   "cell_type": "code",
   "execution_count": null,
   "id": "325a08ca-7348-4ad8-9d02-c1d30a79c868",
   "metadata": {},
   "outputs": [
    {
     "data": {
      "text/html": [
       "<table class=\"dataframe\">\n",
       "<caption>A data.frame: 6 × 13643</caption>\n",
       "<thead>\n",
       "\t<tr><th></th><th scope=col>H1299.S2.36h.A_AAAAACCCCCTC</th><th scope=col>H1299.S2.36h.A_AAAAAGCCTTGG</th><th scope=col>H1299.S2.36h.A_AAAAATTACCAA</th><th scope=col>H1299.S2.36h.A_AAAAATTTGATC</th><th scope=col>H1299.S2.36h.A_AAAACAAAACCC</th><th scope=col>H1299.S2.36h.A_AAAACATTATAA</th><th scope=col>H1299.S2.36h.A_AAAACCGGCCAC</th><th scope=col>H1299.S2.36h.A_AAAACCTACCGA</th><th scope=col>H1299.S2.36h.A_AAAACGCAGGAA</th><th scope=col>H1299.S2.36h.A_AAAACTAACGCA</th><th scope=col>⋯</th><th scope=col>H1299.mock.4h.B_TTTGCTGAACGG</th><th scope=col>H1299.mock.4h.B_TTTGCTTCATTG</th><th scope=col>H1299.mock.4h.B_TTTGCTTGATTA</th><th scope=col>H1299.mock.4h.B_TTTGGGAACAAA</th><th scope=col>H1299.mock.4h.B_TTTGGTATGTCC</th><th scope=col>H1299.mock.4h.B_TTTGTCGAAACT</th><th scope=col>H1299.mock.4h.B_TTTTATCCACGA</th><th scope=col>H1299.mock.4h.B_TTTTCACACCGG</th><th scope=col>H1299.mock.4h.B_TTTTCGATTCAT</th><th scope=col>H1299.mock.4h.B_TTTTGTTTGCAT</th></tr>\n",
       "\t<tr><th></th><th scope=col>&lt;dbl&gt;</th><th scope=col>&lt;dbl&gt;</th><th scope=col>&lt;dbl&gt;</th><th scope=col>&lt;dbl&gt;</th><th scope=col>&lt;dbl&gt;</th><th scope=col>&lt;dbl&gt;</th><th scope=col>&lt;dbl&gt;</th><th scope=col>&lt;dbl&gt;</th><th scope=col>&lt;dbl&gt;</th><th scope=col>&lt;dbl&gt;</th><th scope=col>⋯</th><th scope=col>&lt;dbl&gt;</th><th scope=col>&lt;dbl&gt;</th><th scope=col>&lt;dbl&gt;</th><th scope=col>&lt;dbl&gt;</th><th scope=col>&lt;dbl&gt;</th><th scope=col>&lt;dbl&gt;</th><th scope=col>&lt;dbl&gt;</th><th scope=col>&lt;dbl&gt;</th><th scope=col>&lt;dbl&gt;</th><th scope=col>&lt;dbl&gt;</th></tr>\n",
       "</thead>\n",
       "<tbody>\n",
       "\t<tr><th scope=row>ENSG00000146038</th><td>0</td><td>0</td><td>0</td><td>0</td><td>0</td><td>0</td><td>0</td><td>0</td><td>0</td><td>0</td><td>⋯</td><td>0</td><td>0</td><td>0</td><td>0</td><td>0</td><td>0</td><td>0</td><td>0</td><td>0</td><td>0</td></tr>\n",
       "\t<tr><th scope=row>ENSG00000136536</th><td>0</td><td>0</td><td>2</td><td>0</td><td>0</td><td>0</td><td>0</td><td>1</td><td>1</td><td>0</td><td>⋯</td><td>0</td><td>0</td><td>1</td><td>0</td><td>2</td><td>0</td><td>0</td><td>0</td><td>0</td><td>1</td></tr>\n",
       "\t<tr><th scope=row>ENSG00000203809</th><td>0</td><td>0</td><td>0</td><td>0</td><td>0</td><td>0</td><td>0</td><td>0</td><td>0</td><td>0</td><td>⋯</td><td>0</td><td>0</td><td>0</td><td>0</td><td>0</td><td>0</td><td>0</td><td>0</td><td>0</td><td>0</td></tr>\n",
       "\t<tr><th scope=row>ENSG00000116679</th><td>0</td><td>0</td><td>0</td><td>0</td><td>0</td><td>0</td><td>0</td><td>1</td><td>0</td><td>0</td><td>⋯</td><td>0</td><td>0</td><td>0</td><td>0</td><td>4</td><td>0</td><td>0</td><td>0</td><td>0</td><td>0</td></tr>\n",
       "\t<tr><th scope=row>ENSG00000160360</th><td>0</td><td>0</td><td>0</td><td>0</td><td>0</td><td>0</td><td>0</td><td>0</td><td>1</td><td>0</td><td>⋯</td><td>0</td><td>0</td><td>0</td><td>0</td><td>0</td><td>0</td><td>0</td><td>0</td><td>0</td><td>0</td></tr>\n",
       "\t<tr><th scope=row>ENSG00000165282</th><td>1</td><td>0</td><td>0</td><td>0</td><td>0</td><td>0</td><td>0</td><td>0</td><td>0</td><td>0</td><td>⋯</td><td>0</td><td>1</td><td>0</td><td>0</td><td>1</td><td>0</td><td>0</td><td>0</td><td>0</td><td>3</td></tr>\n",
       "</tbody>\n",
       "</table>\n"
      ],
      "text/latex": [
       "A data.frame: 6 × 13643\n",
       "\\begin{tabular}{r|lllllllllllllllllllll}\n",
       "  & H1299.S2.36h.A\\_AAAAACCCCCTC & H1299.S2.36h.A\\_AAAAAGCCTTGG & H1299.S2.36h.A\\_AAAAATTACCAA & H1299.S2.36h.A\\_AAAAATTTGATC & H1299.S2.36h.A\\_AAAACAAAACCC & H1299.S2.36h.A\\_AAAACATTATAA & H1299.S2.36h.A\\_AAAACCGGCCAC & H1299.S2.36h.A\\_AAAACCTACCGA & H1299.S2.36h.A\\_AAAACGCAGGAA & H1299.S2.36h.A\\_AAAACTAACGCA & ⋯ & H1299.mock.4h.B\\_TTTGCTGAACGG & H1299.mock.4h.B\\_TTTGCTTCATTG & H1299.mock.4h.B\\_TTTGCTTGATTA & H1299.mock.4h.B\\_TTTGGGAACAAA & H1299.mock.4h.B\\_TTTGGTATGTCC & H1299.mock.4h.B\\_TTTGTCGAAACT & H1299.mock.4h.B\\_TTTTATCCACGA & H1299.mock.4h.B\\_TTTTCACACCGG & H1299.mock.4h.B\\_TTTTCGATTCAT & H1299.mock.4h.B\\_TTTTGTTTGCAT\\\\\n",
       "  & <dbl> & <dbl> & <dbl> & <dbl> & <dbl> & <dbl> & <dbl> & <dbl> & <dbl> & <dbl> & ⋯ & <dbl> & <dbl> & <dbl> & <dbl> & <dbl> & <dbl> & <dbl> & <dbl> & <dbl> & <dbl>\\\\\n",
       "\\hline\n",
       "\tENSG00000146038 & 0 & 0 & 0 & 0 & 0 & 0 & 0 & 0 & 0 & 0 & ⋯ & 0 & 0 & 0 & 0 & 0 & 0 & 0 & 0 & 0 & 0\\\\\n",
       "\tENSG00000136536 & 0 & 0 & 2 & 0 & 0 & 0 & 0 & 1 & 1 & 0 & ⋯ & 0 & 0 & 1 & 0 & 2 & 0 & 0 & 0 & 0 & 1\\\\\n",
       "\tENSG00000203809 & 0 & 0 & 0 & 0 & 0 & 0 & 0 & 0 & 0 & 0 & ⋯ & 0 & 0 & 0 & 0 & 0 & 0 & 0 & 0 & 0 & 0\\\\\n",
       "\tENSG00000116679 & 0 & 0 & 0 & 0 & 0 & 0 & 0 & 1 & 0 & 0 & ⋯ & 0 & 0 & 0 & 0 & 4 & 0 & 0 & 0 & 0 & 0\\\\\n",
       "\tENSG00000160360 & 0 & 0 & 0 & 0 & 0 & 0 & 0 & 0 & 1 & 0 & ⋯ & 0 & 0 & 0 & 0 & 0 & 0 & 0 & 0 & 0 & 0\\\\\n",
       "\tENSG00000165282 & 1 & 0 & 0 & 0 & 0 & 0 & 0 & 0 & 0 & 0 & ⋯ & 0 & 1 & 0 & 0 & 1 & 0 & 0 & 0 & 0 & 3\\\\\n",
       "\\end{tabular}\n"
      ],
      "text/markdown": [
       "\n",
       "A data.frame: 6 × 13643\n",
       "\n",
       "| <!--/--> | H1299.S2.36h.A_AAAAACCCCCTC &lt;dbl&gt; | H1299.S2.36h.A_AAAAAGCCTTGG &lt;dbl&gt; | H1299.S2.36h.A_AAAAATTACCAA &lt;dbl&gt; | H1299.S2.36h.A_AAAAATTTGATC &lt;dbl&gt; | H1299.S2.36h.A_AAAACAAAACCC &lt;dbl&gt; | H1299.S2.36h.A_AAAACATTATAA &lt;dbl&gt; | H1299.S2.36h.A_AAAACCGGCCAC &lt;dbl&gt; | H1299.S2.36h.A_AAAACCTACCGA &lt;dbl&gt; | H1299.S2.36h.A_AAAACGCAGGAA &lt;dbl&gt; | H1299.S2.36h.A_AAAACTAACGCA &lt;dbl&gt; | ⋯ ⋯ | H1299.mock.4h.B_TTTGCTGAACGG &lt;dbl&gt; | H1299.mock.4h.B_TTTGCTTCATTG &lt;dbl&gt; | H1299.mock.4h.B_TTTGCTTGATTA &lt;dbl&gt; | H1299.mock.4h.B_TTTGGGAACAAA &lt;dbl&gt; | H1299.mock.4h.B_TTTGGTATGTCC &lt;dbl&gt; | H1299.mock.4h.B_TTTGTCGAAACT &lt;dbl&gt; | H1299.mock.4h.B_TTTTATCCACGA &lt;dbl&gt; | H1299.mock.4h.B_TTTTCACACCGG &lt;dbl&gt; | H1299.mock.4h.B_TTTTCGATTCAT &lt;dbl&gt; | H1299.mock.4h.B_TTTTGTTTGCAT &lt;dbl&gt; |\n",
       "|---|---|---|---|---|---|---|---|---|---|---|---|---|---|---|---|---|---|---|---|---|---|\n",
       "| ENSG00000146038 | 0 | 0 | 0 | 0 | 0 | 0 | 0 | 0 | 0 | 0 | ⋯ | 0 | 0 | 0 | 0 | 0 | 0 | 0 | 0 | 0 | 0 |\n",
       "| ENSG00000136536 | 0 | 0 | 2 | 0 | 0 | 0 | 0 | 1 | 1 | 0 | ⋯ | 0 | 0 | 1 | 0 | 2 | 0 | 0 | 0 | 0 | 1 |\n",
       "| ENSG00000203809 | 0 | 0 | 0 | 0 | 0 | 0 | 0 | 0 | 0 | 0 | ⋯ | 0 | 0 | 0 | 0 | 0 | 0 | 0 | 0 | 0 | 0 |\n",
       "| ENSG00000116679 | 0 | 0 | 0 | 0 | 0 | 0 | 0 | 1 | 0 | 0 | ⋯ | 0 | 0 | 0 | 0 | 4 | 0 | 0 | 0 | 0 | 0 |\n",
       "| ENSG00000160360 | 0 | 0 | 0 | 0 | 0 | 0 | 0 | 0 | 1 | 0 | ⋯ | 0 | 0 | 0 | 0 | 0 | 0 | 0 | 0 | 0 | 0 |\n",
       "| ENSG00000165282 | 1 | 0 | 0 | 0 | 0 | 0 | 0 | 0 | 0 | 0 | ⋯ | 0 | 1 | 0 | 0 | 1 | 0 | 0 | 0 | 0 | 3 |\n",
       "\n"
      ],
      "text/plain": [
       "                H1299.S2.36h.A_AAAAACCCCCTC H1299.S2.36h.A_AAAAAGCCTTGG\n",
       "ENSG00000146038 0                           0                          \n",
       "ENSG00000136536 0                           0                          \n",
       "ENSG00000203809 0                           0                          \n",
       "ENSG00000116679 0                           0                          \n",
       "ENSG00000160360 0                           0                          \n",
       "ENSG00000165282 1                           0                          \n",
       "                H1299.S2.36h.A_AAAAATTACCAA H1299.S2.36h.A_AAAAATTTGATC\n",
       "ENSG00000146038 0                           0                          \n",
       "ENSG00000136536 2                           0                          \n",
       "ENSG00000203809 0                           0                          \n",
       "ENSG00000116679 0                           0                          \n",
       "ENSG00000160360 0                           0                          \n",
       "ENSG00000165282 0                           0                          \n",
       "                H1299.S2.36h.A_AAAACAAAACCC H1299.S2.36h.A_AAAACATTATAA\n",
       "ENSG00000146038 0                           0                          \n",
       "ENSG00000136536 0                           0                          \n",
       "ENSG00000203809 0                           0                          \n",
       "ENSG00000116679 0                           0                          \n",
       "ENSG00000160360 0                           0                          \n",
       "ENSG00000165282 0                           0                          \n",
       "                H1299.S2.36h.A_AAAACCGGCCAC H1299.S2.36h.A_AAAACCTACCGA\n",
       "ENSG00000146038 0                           0                          \n",
       "ENSG00000136536 0                           1                          \n",
       "ENSG00000203809 0                           0                          \n",
       "ENSG00000116679 0                           1                          \n",
       "ENSG00000160360 0                           0                          \n",
       "ENSG00000165282 0                           0                          \n",
       "                H1299.S2.36h.A_AAAACGCAGGAA H1299.S2.36h.A_AAAACTAACGCA ⋯\n",
       "ENSG00000146038 0                           0                           ⋯\n",
       "ENSG00000136536 1                           0                           ⋯\n",
       "ENSG00000203809 0                           0                           ⋯\n",
       "ENSG00000116679 0                           0                           ⋯\n",
       "ENSG00000160360 1                           0                           ⋯\n",
       "ENSG00000165282 0                           0                           ⋯\n",
       "                H1299.mock.4h.B_TTTGCTGAACGG H1299.mock.4h.B_TTTGCTTCATTG\n",
       "ENSG00000146038 0                            0                           \n",
       "ENSG00000136536 0                            0                           \n",
       "ENSG00000203809 0                            0                           \n",
       "ENSG00000116679 0                            0                           \n",
       "ENSG00000160360 0                            0                           \n",
       "ENSG00000165282 0                            1                           \n",
       "                H1299.mock.4h.B_TTTGCTTGATTA H1299.mock.4h.B_TTTGGGAACAAA\n",
       "ENSG00000146038 0                            0                           \n",
       "ENSG00000136536 1                            0                           \n",
       "ENSG00000203809 0                            0                           \n",
       "ENSG00000116679 0                            0                           \n",
       "ENSG00000160360 0                            0                           \n",
       "ENSG00000165282 0                            0                           \n",
       "                H1299.mock.4h.B_TTTGGTATGTCC H1299.mock.4h.B_TTTGTCGAAACT\n",
       "ENSG00000146038 0                            0                           \n",
       "ENSG00000136536 2                            0                           \n",
       "ENSG00000203809 0                            0                           \n",
       "ENSG00000116679 4                            0                           \n",
       "ENSG00000160360 0                            0                           \n",
       "ENSG00000165282 1                            0                           \n",
       "                H1299.mock.4h.B_TTTTATCCACGA H1299.mock.4h.B_TTTTCACACCGG\n",
       "ENSG00000146038 0                            0                           \n",
       "ENSG00000136536 0                            0                           \n",
       "ENSG00000203809 0                            0                           \n",
       "ENSG00000116679 0                            0                           \n",
       "ENSG00000160360 0                            0                           \n",
       "ENSG00000165282 0                            0                           \n",
       "                H1299.mock.4h.B_TTTTCGATTCAT H1299.mock.4h.B_TTTTGTTTGCAT\n",
       "ENSG00000146038 0                            0                           \n",
       "ENSG00000136536 0                            1                           \n",
       "ENSG00000203809 0                            0                           \n",
       "ENSG00000116679 0                            0                           \n",
       "ENSG00000160360 0                            0                           \n",
       "ENSG00000165282 0                            3                           "
      ]
     },
     "metadata": {},
     "output_type": "display_data"
    }
   ],
   "source": [
    "head(counts)"
   ]
  },
  {
   "cell_type": "code",
   "execution_count": null,
   "id": "1be413d5-80f8-4b49-806b-42e6c6d78501",
   "metadata": {},
   "outputs": [],
   "source": [
    "write.table(results.classified, file = 'desingle_h1299_36h.csv', sep=',')"
   ]
  },
  {
   "cell_type": "code",
   "execution_count": null,
   "id": "de41b550-f69a-470c-809e-81b563eed65b",
   "metadata": {},
   "outputs": [],
   "source": []
  },
  {
   "cell_type": "code",
   "execution_count": null,
   "id": "f8b6d11b-fd62-43e4-a69c-93eeda76cc94",
   "metadata": {},
   "outputs": [],
   "source": []
  },
  {
   "cell_type": "code",
   "execution_count": null,
   "id": "6025c632-9f79-4a6b-9b73-48b8a37b2210",
   "metadata": {},
   "outputs": [],
   "source": []
  },
  {
   "cell_type": "code",
   "execution_count": null,
   "id": "b1872972-1a1a-4aef-9966-c1736d03ec25",
   "metadata": {},
   "outputs": [],
   "source": []
  }
 ],
 "metadata": {
  "kernelspec": {
   "display_name": "R",
   "language": "R",
   "name": "ir"
  },
  "language_info": {
   "codemirror_mode": "r",
   "file_extension": ".r",
   "mimetype": "text/x-r-source",
   "name": "R",
   "pygments_lexer": "r",
   "version": "4.2.2"
  }
 },
 "nbformat": 4,
 "nbformat_minor": 5
}
