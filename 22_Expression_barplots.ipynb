{
 "cells": [
  {
   "cell_type": "code",
   "execution_count": 3,
   "id": "927c5a84",
   "metadata": {},
   "outputs": [],
   "source": [
    "import numpy as np\n",
    "import pandas as pd\n",
    "import matplotlib.pyplot as plt\n",
    "import seaborn as sns\n",
    "import mygene"
   ]
  },
  {
   "cell_type": "code",
   "execution_count": 4,
   "id": "578721f3",
   "metadata": {},
   "outputs": [],
   "source": [
    "def analyze_cell_lines(cell_lines_times):\n",
    "    for cell_line_time in cell_lines_times:\n",
    "        # Load data\n",
    "        counts, deseq, desingle = load_data(cell_line_time)\n",
    "\n",
    "        # Preprocess data\n",
    "        expr_single, expr_pseudo, deseq, lfc_single, lfc_pseudo, desingle = \\\n",
    "        preprocess_data(counts, deseq, desingle)\n",
    "\n",
    "        # Plot and save data\n",
    "        plot_data(expr_single, expr_pseudo, deseq, lfc_single, lfc_pseudo, desingle,\n",
    "                 cell_line_time)"
   ]
  },
  {
   "cell_type": "code",
   "execution_count": 5,
   "id": "74475dcf",
   "metadata": {},
   "outputs": [],
   "source": [
    "def plot_data(single, pseudo, deseq, lfc_single, lfc_pseudo, desingle,\n",
    "             figure_name):\n",
    "    fig, axs = plt.subplots(3, 2, figsize=(16, 32))\n",
    "    fig.suptitle(figure_name)\n",
    "\n",
    "    fig.subplots_adjust(hspace=0.3)\n",
    "    for i in range(3): \n",
    "        \n",
    "        expr_single = single[single[first_col_name] == single[first_col_name][i]]\n",
    "        expr_pseudo = pseudo[pseudo[first_col_name] == pseudo[first_col_name][i]]\n",
    "    \n",
    "    \n",
    "        lfc_s = desingle[desingle.index.isin(lfc_single)].log2FoldChange[i]\n",
    "        lfc_s = round(lfc_s, 3)\n",
    "    \n",
    "        ax1 = axs[i][0]\n",
    "        ax1.set_title(f'DEsingle, key_0={lfc_s}')\n",
    "        ax1.set_title(lfc_s)\n",
    "        sns.barplot(expr_single, x=first_col_name, y='value', hue='var', ax=ax1)\n",
    "    \n",
    "    \n",
    "        lfc_p = deseq[deseq.index.isin(lfc_pseudo)].log2FoldChange[i] # lfc of ith gene in pseudobulk\n",
    "        lfc_p = round(lfc_p, 3)\n",
    "        \n",
    "        \n",
    "        ax2 = axs[i][1]\n",
    "        ax2.set_title(f'Pseudobulk, key_0={lfc_p}')\n",
    "    \n",
    "        ax2.set_title(lfc_p)\n",
    "\n",
    "        sns.barplot(expr_pseudo, x=first_col_name, y='value', hue='var', ax=ax2)\n",
    "        fig.savefig(f'output_graphs/{figure_name}.jpeg')"
   ]
  },
  {
   "cell_type": "code",
   "execution_count": 6,
   "id": "a3295a9b",
   "metadata": {},
   "outputs": [],
   "source": [
    "def load_data(cell_line_time):\n",
    "    # Load the three datasets for the given cell line\n",
    "    counts = rename_first_column(pd.read_csv(f\"{cell_line_time}/counts.csv\"))\n",
    "    deseq = rename_first_column(pd.read_csv(f\"{cell_line_time}/deseq.csv\"))\n",
    "    desingle = rename_first_column(pd.read_csv(f\"{cell_line_time}/desingle.csv\"))\n",
    "    \n",
    "    return counts, deseq, desingle"
   ]
  },
  {
   "cell_type": "code",
   "execution_count": 7,
   "id": "f830bac6",
   "metadata": {},
   "outputs": [],
   "source": [
    "first_col_name = 'gene_id'\n",
    "def rename_first_column(df):\n",
    "    first_column_name = df.columns[0]\n",
    "    df = df.rename(columns={first_column_name: first_col_name})\n",
    "    return df"
   ]
  },
  {
   "cell_type": "code",
   "execution_count": 8,
   "id": "d8690707",
   "metadata": {},
   "outputs": [],
   "source": [
    "def preprocess_data(counts, deseq, desingle):\n",
    "    # Preprocess the data\n",
    "    \n",
    "    # DEsingle preprocessing\n",
    "    desingle = desingle[(desingle['pvalue.adj.FDR'] < 0.01) & (desingle['norm_foldChange'].abs() > 1)]\n",
    "    desingle_copy = desingle.copy()\n",
    "    desingle_copy.loc[:, 'log2FoldChange'] = np.log2(desingle_copy['norm_foldChange'])\n",
    "    desingle = desingle_copy\n",
    "    desingle = desingle.sort_values(by='chi2LR1', ascending=False, key=abs)\n",
    "    \n",
    "    # add gene symbol instead of ens id\n",
    "    geneSyms = mg.querymany(desingle.index, scopes='ensembl.gene')\n",
    "    gene_syms = pd.DataFrame(geneSyms)\n",
    "    desingle['symbol'] = gene_syms['symbol']\n",
    "    \n",
    "    top_single = desingle.head(5).index\n",
    "    \n",
    "    # DESeq preprocessing\n",
    "    deseq = deseq[(deseq['padj'] < 0.01)]\n",
    "    deseq = deseq.sort_values(by='log2FoldChange', ascending=False, key=abs)\n",
    "    deseq.index = deseq[first_col_name]\n",
    "    \n",
    "    geneSyms1 = mg.querymany(deseq.index, scopes='ensembl.gene')\n",
    "    gene_syms1 = pd.DataFrame(geneSyms1)\n",
    "    deseq['symbol'] = gene_syms1['symbol']\n",
    "    \n",
    "    top_pseudo = deseq.head(5).index\n",
    "    \n",
    "    # Filter counts for top_single and top_pseudo\n",
    "    expr_single = counts[counts[first_col_name].isin(top_single)].copy()\n",
    "    expr_pseudo = counts[counts[first_col_name].isin(top_pseudo)].copy()\n",
    "    \n",
    "    # do melting and grouping\n",
    "    expr_pseudo = expr_pseudo.melt(first_col_name)\n",
    "    expr_pseudo['var'] = expr_pseudo['variable'].apply(\n",
    "        lambda x: 'mock' if '-mock-' in x else \n",
    "        'S2' if '-S2-' in x else None)\n",
    "    \n",
    "    expr_single = expr_single.melt(first_col_name)\n",
    "    expr_single['var'] = expr_single['variable'].apply(\n",
    "        lambda x: 'mock' if '-mock-' in x else \n",
    "        'S2' if '-S2-' in x else None)\n",
    "    \n",
    "    lfc_single = expr_single[first_col_name].iloc[0:3]\n",
    "    lfc_pseudo = expr_pseudo[first_col_name].iloc[0:3]\n",
    "    \n",
    "    return expr_single, expr_pseudo, deseq, lfc_single, lfc_pseudo, desingle"
   ]
  },
  {
   "cell_type": "code",
   "execution_count": null,
   "id": "68e0ca7d",
   "metadata": {},
   "outputs": [],
   "source": []
  },
  {
   "cell_type": "code",
   "execution_count": 9,
   "id": "4f01c2eb",
   "metadata": {},
   "outputs": [
    {
     "ename": "TypeError",
     "evalue": "string indices must be integers",
     "output_type": "error",
     "traceback": [
      "\u001b[0;31m---------------------------------------------------------------------------\u001b[0m",
      "\u001b[0;31mTypeError\u001b[0m                                 Traceback (most recent call last)",
      "Cell \u001b[0;32mIn [9], line 5\u001b[0m\n\u001b[1;32m      2\u001b[0m pseudo \u001b[38;5;241m=\u001b[39m \u001b[38;5;124m'\u001b[39m\u001b[38;5;124m/Users/sofialuk/Desktop/thesis/05_Expression barplots/calu3_12h/deseq.csv\u001b[39m\u001b[38;5;124m'\u001b[39m\n\u001b[1;32m      3\u001b[0m counts \u001b[38;5;241m=\u001b[39m \u001b[38;5;124m'\u001b[39m\u001b[38;5;124m/Users/sofialuk/Desktop/thesis/05_Expression barplots/calu3_12h/counts.csv\u001b[39m\u001b[38;5;124m'\u001b[39m\n\u001b[0;32m----> 5\u001b[0m \u001b[43mpreprocess_data\u001b[49m\u001b[43m(\u001b[49m\u001b[43mcounts\u001b[49m\u001b[43m,\u001b[49m\u001b[43m \u001b[49m\u001b[43mpseudo\u001b[49m\u001b[43m,\u001b[49m\u001b[43m \u001b[49m\u001b[43msingle\u001b[49m\u001b[43m)\u001b[49m\n",
      "Cell \u001b[0;32mIn [8], line 5\u001b[0m, in \u001b[0;36mpreprocess_data\u001b[0;34m(counts, deseq, desingle)\u001b[0m\n\u001b[1;32m      1\u001b[0m \u001b[38;5;28;01mdef\u001b[39;00m \u001b[38;5;21mpreprocess_data\u001b[39m(counts, deseq, desingle):\n\u001b[1;32m      2\u001b[0m     \u001b[38;5;66;03m# Preprocess the data\u001b[39;00m\n\u001b[1;32m      3\u001b[0m     \n\u001b[1;32m      4\u001b[0m     \u001b[38;5;66;03m# DEsingle preprocessing\u001b[39;00m\n\u001b[0;32m----> 5\u001b[0m     desingle \u001b[38;5;241m=\u001b[39m desingle[(\u001b[43mdesingle\u001b[49m\u001b[43m[\u001b[49m\u001b[38;5;124;43m'\u001b[39;49m\u001b[38;5;124;43mpvalue.adj.FDR\u001b[39;49m\u001b[38;5;124;43m'\u001b[39;49m\u001b[43m]\u001b[49m \u001b[38;5;241m<\u001b[39m \u001b[38;5;241m0.01\u001b[39m) \u001b[38;5;241m&\u001b[39m (desingle[\u001b[38;5;124m'\u001b[39m\u001b[38;5;124mnorm_foldChange\u001b[39m\u001b[38;5;124m'\u001b[39m]\u001b[38;5;241m.\u001b[39mabs() \u001b[38;5;241m>\u001b[39m \u001b[38;5;241m1\u001b[39m)]\n\u001b[1;32m      6\u001b[0m     desingle_copy \u001b[38;5;241m=\u001b[39m desingle\u001b[38;5;241m.\u001b[39mcopy()\n\u001b[1;32m      7\u001b[0m     desingle_copy\u001b[38;5;241m.\u001b[39mloc[:, \u001b[38;5;124m'\u001b[39m\u001b[38;5;124mlog2FoldChange\u001b[39m\u001b[38;5;124m'\u001b[39m] \u001b[38;5;241m=\u001b[39m np\u001b[38;5;241m.\u001b[39mlog2(desingle_copy[\u001b[38;5;124m'\u001b[39m\u001b[38;5;124mnorm_foldChange\u001b[39m\u001b[38;5;124m'\u001b[39m])\n",
      "\u001b[0;31mTypeError\u001b[0m: string indices must be integers"
     ]
    }
   ],
   "source": [
    "single = '/Users/sofialuk/Desktop/thesis/05_Expression barplots/calu3_12h/desingle.csv'\n",
    "pseudo = '/Users/sofialuk/Desktop/thesis/05_Expression barplots/calu3_12h/deseq.csv'\n",
    "counts = '/Users/sofialuk/Desktop/thesis/05_Expression barplots/calu3_12h/counts.csv'\n",
    "\n",
    "preprocess_data(counts, pseudo, single)"
   ]
  },
  {
   "cell_type": "code",
   "execution_count": 31,
   "id": "854f19b9",
   "metadata": {},
   "outputs": [
    {
     "name": "stdout",
     "output_type": "stream",
     "text": [
      "querying 1-482...done.\n",
      "Finished.\n",
      "1 input query terms found no hit:\n",
      "\t['ENSG00000244693']\n",
      "Pass \"returnall=True\" to return complete lists of duplicate or missing query terms.\n",
      "querying 1-1000...done.\n",
      "querying 1001-2000...done.\n",
      "querying 2001-2683...done.\n",
      "Finished.\n",
      "4 input query terms found no hit:\n",
      "\t['ENSG00000225932', 'ENSG00000244693', 'ENSG00000271043', 'ENSG00000283486']\n",
      "Pass \"returnall=True\" to return complete lists of duplicate or missing query terms.\n"
     ]
    },
    {
     "ename": "ValueError",
     "evalue": "Could not interpret input 'symbol'",
     "output_type": "error",
     "traceback": [
      "\u001b[0;31m---------------------------------------------------------------------------\u001b[0m",
      "\u001b[0;31mValueError\u001b[0m                                Traceback (most recent call last)",
      "Cell \u001b[0;32mIn [31], line 5\u001b[0m\n\u001b[1;32m      2\u001b[0m cell_lines_times \u001b[38;5;241m=\u001b[39m [\u001b[38;5;124m'\u001b[39m\u001b[38;5;124mcalu3_8h\u001b[39m\u001b[38;5;124m'\u001b[39m, \u001b[38;5;124m'\u001b[39m\u001b[38;5;124mcalu3_12h\u001b[39m\u001b[38;5;124m'\u001b[39m]\n\u001b[1;32m      3\u001b[0m mg \u001b[38;5;241m=\u001b[39m mygene\u001b[38;5;241m.\u001b[39mMyGeneInfo()\n\u001b[0;32m----> 5\u001b[0m \u001b[43manalyze_cell_lines\u001b[49m\u001b[43m(\u001b[49m\u001b[43mcell_lines_times\u001b[49m\u001b[43m)\u001b[49m\n",
      "Cell \u001b[0;32mIn [13], line 11\u001b[0m, in \u001b[0;36manalyze_cell_lines\u001b[0;34m(cell_lines_times)\u001b[0m\n\u001b[1;32m      7\u001b[0m expr_single, expr_pseudo, deseq, lfc_single, lfc_pseudo, desingle \u001b[38;5;241m=\u001b[39m \\\n\u001b[1;32m      8\u001b[0m preprocess_data(counts, deseq, desingle)\n\u001b[1;32m     10\u001b[0m \u001b[38;5;66;03m# Plot and save data\u001b[39;00m\n\u001b[0;32m---> 11\u001b[0m \u001b[43mplot_data\u001b[49m\u001b[43m(\u001b[49m\u001b[43mexpr_single\u001b[49m\u001b[43m,\u001b[49m\u001b[43m \u001b[49m\u001b[43mexpr_pseudo\u001b[49m\u001b[43m,\u001b[49m\u001b[43m \u001b[49m\u001b[43mdeseq\u001b[49m\u001b[43m,\u001b[49m\u001b[43m \u001b[49m\u001b[43mlfc_single\u001b[49m\u001b[43m,\u001b[49m\u001b[43m \u001b[49m\u001b[43mlfc_pseudo\u001b[49m\u001b[43m,\u001b[49m\u001b[43m \u001b[49m\u001b[43mdesingle\u001b[49m\u001b[43m,\u001b[49m\n\u001b[1;32m     12\u001b[0m \u001b[43m         \u001b[49m\u001b[43mcell_line_time\u001b[49m\u001b[43m)\u001b[49m\n",
      "Cell \u001b[0;32mIn [27], line 19\u001b[0m, in \u001b[0;36mplot_data\u001b[0;34m(single, pseudo, deseq, lfc_single, lfc_pseudo, desingle, figure_name)\u001b[0m\n\u001b[1;32m     17\u001b[0m ax1\u001b[38;5;241m.\u001b[39mset_title(\u001b[38;5;124mf\u001b[39m\u001b[38;5;124m'\u001b[39m\u001b[38;5;124mDEsingle, key_0=\u001b[39m\u001b[38;5;132;01m{\u001b[39;00mlfc_s\u001b[38;5;132;01m}\u001b[39;00m\u001b[38;5;124m'\u001b[39m)\n\u001b[1;32m     18\u001b[0m ax1\u001b[38;5;241m.\u001b[39mset_title(lfc_s)\n\u001b[0;32m---> 19\u001b[0m \u001b[43msns\u001b[49m\u001b[38;5;241;43m.\u001b[39;49m\u001b[43mbarplot\u001b[49m\u001b[43m(\u001b[49m\u001b[43mexpr_single\u001b[49m\u001b[43m,\u001b[49m\u001b[43m \u001b[49m\u001b[43mx\u001b[49m\u001b[38;5;241;43m=\u001b[39;49m\u001b[38;5;124;43m'\u001b[39;49m\u001b[38;5;124;43msymbol\u001b[39;49m\u001b[38;5;124;43m'\u001b[39;49m\u001b[43m,\u001b[49m\u001b[43m \u001b[49m\u001b[43my\u001b[49m\u001b[38;5;241;43m=\u001b[39;49m\u001b[38;5;124;43m'\u001b[39;49m\u001b[38;5;124;43mvalue\u001b[39;49m\u001b[38;5;124;43m'\u001b[39;49m\u001b[43m,\u001b[49m\u001b[43m \u001b[49m\u001b[43mhue\u001b[49m\u001b[38;5;241;43m=\u001b[39;49m\u001b[38;5;124;43m'\u001b[39;49m\u001b[38;5;124;43mvar\u001b[39;49m\u001b[38;5;124;43m'\u001b[39;49m\u001b[43m,\u001b[49m\u001b[43m \u001b[49m\u001b[43max\u001b[49m\u001b[38;5;241;43m=\u001b[39;49m\u001b[43max1\u001b[49m\u001b[43m)\u001b[49m\n\u001b[1;32m     22\u001b[0m lfc_p \u001b[38;5;241m=\u001b[39m deseq[deseq\u001b[38;5;241m.\u001b[39mindex\u001b[38;5;241m.\u001b[39misin(lfc_pseudo)]\u001b[38;5;241m.\u001b[39mlog2FoldChange[i] \u001b[38;5;66;03m# lfc of ith gene in pseudobulk\u001b[39;00m\n\u001b[1;32m     23\u001b[0m lfc_p \u001b[38;5;241m=\u001b[39m \u001b[38;5;28mround\u001b[39m(lfc_p, \u001b[38;5;241m3\u001b[39m)\n",
      "File \u001b[0;32m/opt/homebrew/lib/python3.10/site-packages/seaborn/categorical.py:2754\u001b[0m, in \u001b[0;36mbarplot\u001b[0;34m(data, x, y, hue, order, hue_order, estimator, errorbar, n_boot, units, seed, orient, color, palette, saturation, width, errcolor, errwidth, capsize, dodge, ci, ax, **kwargs)\u001b[0m\n\u001b[1;32m   2751\u001b[0m \u001b[38;5;28;01mif\u001b[39;00m estimator \u001b[38;5;129;01mis\u001b[39;00m \u001b[38;5;28mlen\u001b[39m:\n\u001b[1;32m   2752\u001b[0m     estimator \u001b[38;5;241m=\u001b[39m \u001b[38;5;124m\"\u001b[39m\u001b[38;5;124msize\u001b[39m\u001b[38;5;124m\"\u001b[39m\n\u001b[0;32m-> 2754\u001b[0m plotter \u001b[38;5;241m=\u001b[39m \u001b[43m_BarPlotter\u001b[49m\u001b[43m(\u001b[49m\u001b[43mx\u001b[49m\u001b[43m,\u001b[49m\u001b[43m \u001b[49m\u001b[43my\u001b[49m\u001b[43m,\u001b[49m\u001b[43m \u001b[49m\u001b[43mhue\u001b[49m\u001b[43m,\u001b[49m\u001b[43m \u001b[49m\u001b[43mdata\u001b[49m\u001b[43m,\u001b[49m\u001b[43m \u001b[49m\u001b[43morder\u001b[49m\u001b[43m,\u001b[49m\u001b[43m \u001b[49m\u001b[43mhue_order\u001b[49m\u001b[43m,\u001b[49m\n\u001b[1;32m   2755\u001b[0m \u001b[43m                      \u001b[49m\u001b[43mestimator\u001b[49m\u001b[43m,\u001b[49m\u001b[43m \u001b[49m\u001b[43merrorbar\u001b[49m\u001b[43m,\u001b[49m\u001b[43m \u001b[49m\u001b[43mn_boot\u001b[49m\u001b[43m,\u001b[49m\u001b[43m \u001b[49m\u001b[43munits\u001b[49m\u001b[43m,\u001b[49m\u001b[43m \u001b[49m\u001b[43mseed\u001b[49m\u001b[43m,\u001b[49m\n\u001b[1;32m   2756\u001b[0m \u001b[43m                      \u001b[49m\u001b[43morient\u001b[49m\u001b[43m,\u001b[49m\u001b[43m \u001b[49m\u001b[43mcolor\u001b[49m\u001b[43m,\u001b[49m\u001b[43m \u001b[49m\u001b[43mpalette\u001b[49m\u001b[43m,\u001b[49m\u001b[43m \u001b[49m\u001b[43msaturation\u001b[49m\u001b[43m,\u001b[49m\n\u001b[1;32m   2757\u001b[0m \u001b[43m                      \u001b[49m\u001b[43mwidth\u001b[49m\u001b[43m,\u001b[49m\u001b[43m \u001b[49m\u001b[43merrcolor\u001b[49m\u001b[43m,\u001b[49m\u001b[43m \u001b[49m\u001b[43merrwidth\u001b[49m\u001b[43m,\u001b[49m\u001b[43m \u001b[49m\u001b[43mcapsize\u001b[49m\u001b[43m,\u001b[49m\u001b[43m \u001b[49m\u001b[43mdodge\u001b[49m\u001b[43m)\u001b[49m\n\u001b[1;32m   2759\u001b[0m \u001b[38;5;28;01mif\u001b[39;00m ax \u001b[38;5;129;01mis\u001b[39;00m \u001b[38;5;28;01mNone\u001b[39;00m:\n\u001b[1;32m   2760\u001b[0m     ax \u001b[38;5;241m=\u001b[39m plt\u001b[38;5;241m.\u001b[39mgca()\n",
      "File \u001b[0;32m/opt/homebrew/lib/python3.10/site-packages/seaborn/categorical.py:1530\u001b[0m, in \u001b[0;36m_BarPlotter.__init__\u001b[0;34m(self, x, y, hue, data, order, hue_order, estimator, errorbar, n_boot, units, seed, orient, color, palette, saturation, width, errcolor, errwidth, capsize, dodge)\u001b[0m\n\u001b[1;32m   1525\u001b[0m \u001b[38;5;28;01mdef\u001b[39;00m \u001b[38;5;21m__init__\u001b[39m(\u001b[38;5;28mself\u001b[39m, x, y, hue, data, order, hue_order,\n\u001b[1;32m   1526\u001b[0m              estimator, errorbar, n_boot, units, seed,\n\u001b[1;32m   1527\u001b[0m              orient, color, palette, saturation, width,\n\u001b[1;32m   1528\u001b[0m              errcolor, errwidth, capsize, dodge):\n\u001b[1;32m   1529\u001b[0m     \u001b[38;5;124;03m\"\"\"Initialize the plotter.\"\"\"\u001b[39;00m\n\u001b[0;32m-> 1530\u001b[0m     \u001b[38;5;28;43mself\u001b[39;49m\u001b[38;5;241;43m.\u001b[39;49m\u001b[43mestablish_variables\u001b[49m\u001b[43m(\u001b[49m\u001b[43mx\u001b[49m\u001b[43m,\u001b[49m\u001b[43m \u001b[49m\u001b[43my\u001b[49m\u001b[43m,\u001b[49m\u001b[43m \u001b[49m\u001b[43mhue\u001b[49m\u001b[43m,\u001b[49m\u001b[43m \u001b[49m\u001b[43mdata\u001b[49m\u001b[43m,\u001b[49m\u001b[43m \u001b[49m\u001b[43morient\u001b[49m\u001b[43m,\u001b[49m\n\u001b[1;32m   1531\u001b[0m \u001b[43m                             \u001b[49m\u001b[43morder\u001b[49m\u001b[43m,\u001b[49m\u001b[43m \u001b[49m\u001b[43mhue_order\u001b[49m\u001b[43m,\u001b[49m\u001b[43m \u001b[49m\u001b[43munits\u001b[49m\u001b[43m)\u001b[49m\n\u001b[1;32m   1532\u001b[0m     \u001b[38;5;28mself\u001b[39m\u001b[38;5;241m.\u001b[39mestablish_colors(color, palette, saturation)\n\u001b[1;32m   1533\u001b[0m     \u001b[38;5;28mself\u001b[39m\u001b[38;5;241m.\u001b[39mestimate_statistic(estimator, errorbar, n_boot, seed)\n",
      "File \u001b[0;32m/opt/homebrew/lib/python3.10/site-packages/seaborn/categorical.py:541\u001b[0m, in \u001b[0;36m_CategoricalPlotter.establish_variables\u001b[0;34m(self, x, y, hue, data, orient, order, hue_order, units)\u001b[0m\n\u001b[1;32m    539\u001b[0m     \u001b[38;5;28;01mif\u001b[39;00m \u001b[38;5;28misinstance\u001b[39m(var, \u001b[38;5;28mstr\u001b[39m):\n\u001b[1;32m    540\u001b[0m         err \u001b[38;5;241m=\u001b[39m \u001b[38;5;124mf\u001b[39m\u001b[38;5;124m\"\u001b[39m\u001b[38;5;124mCould not interpret input \u001b[39m\u001b[38;5;124m'\u001b[39m\u001b[38;5;132;01m{\u001b[39;00mvar\u001b[38;5;132;01m}\u001b[39;00m\u001b[38;5;124m'\u001b[39m\u001b[38;5;124m\"\u001b[39m\n\u001b[0;32m--> 541\u001b[0m         \u001b[38;5;28;01mraise\u001b[39;00m \u001b[38;5;167;01mValueError\u001b[39;00m(err)\n\u001b[1;32m    543\u001b[0m \u001b[38;5;66;03m# Figure out the plotting orientation\u001b[39;00m\n\u001b[1;32m    544\u001b[0m orient \u001b[38;5;241m=\u001b[39m infer_orient(\n\u001b[1;32m    545\u001b[0m     x, y, orient, require_numeric\u001b[38;5;241m=\u001b[39m\u001b[38;5;28mself\u001b[39m\u001b[38;5;241m.\u001b[39mrequire_numeric\n\u001b[1;32m    546\u001b[0m )\n",
      "\u001b[0;31mValueError\u001b[0m: Could not interpret input 'symbol'"
     ]
    },
    {
     "data": {
      "image/png": "[encoded data removed]",
      "text/plain": [
       "<Figure size 1600x3200 with 10 Axes>"
      ]
     },
     "metadata": {},
     "output_type": "display_data"
    }
   ],
   "source": [
    "# cell_lines_times = ['calu3_8h', 'calu3_12h', 'h1299_12h', 'h1299_24h', 'h1299_36h']\n",
    "cell_lines_times = ['calu3_8h', 'calu3_12h']\n",
    "mg = mygene.MyGeneInfo()\n",
    "\n",
    "analyze_cell_lines(cell_lines_times)"
   ]
  },
  {
   "cell_type": "code",
   "execution_count": null,
   "id": "0364be82",
   "metadata": {},
   "outputs": [],
   "source": []
  },
  {
   "cell_type": "code",
   "execution_count": null,
   "id": "0f57d9e2",
   "metadata": {},
   "outputs": [],
   "source": []
  },
  {
   "cell_type": "code",
   "execution_count": null,
   "id": "8b6f8ed8",
   "metadata": {},
   "outputs": [],
   "source": []
  },
  {
   "cell_type": "code",
   "execution_count": null,
   "id": "a86df222",
   "metadata": {},
   "outputs": [],
   "source": []
  },
  {
   "cell_type": "code",
   "execution_count": null,
   "id": "c2d74600",
   "metadata": {},
   "outputs": [],
   "source": []
  },
  {
   "cell_type": "code",
   "execution_count": null,
   "id": "c5618c9c",
   "metadata": {},
   "outputs": [],
   "source": []
  },
  {
   "cell_type": "code",
   "execution_count": null,
   "id": "0c2ed2d6",
   "metadata": {},
   "outputs": [],
   "source": []
  },
  {
   "cell_type": "code",
   "execution_count": null,
   "id": "9741fd43",
   "metadata": {},
   "outputs": [],
   "source": [
    "mg = mygene.MyGeneInfo()"
   ]
  },
  {
   "cell_type": "code",
   "execution_count": null,
   "id": "d1bc1fbb",
   "metadata": {},
   "outputs": [],
   "source": [
    "single = '/Users/sofialuk/Desktop/thesis/05_Expression barplots/calu3_12h/desingle.csv'\n",
    "\n",
    "desingle = pd.read_csv(single)\n",
    "desingle = desingle[(desingle['pvalue.adj.FDR'] < 0.01) & (desingle['norm_foldChange'].abs() > 1)]\n",
    "desingle_copy = desingle.copy()\n",
    "desingle_copy.loc[:, 'log2FoldChange'] = np.log2(desingle_copy['norm_foldChange'])\n",
    "desingle = desingle_copy\n",
    "desingle = desingle.sort_values(by='chi2LR1', ascending=False, key=abs) \n",
    "desingle"
   ]
  },
  {
   "cell_type": "code",
   "execution_count": null,
   "id": "05e36c3f",
   "metadata": {},
   "outputs": [],
   "source": []
  },
  {
   "cell_type": "code",
   "execution_count": null,
   "id": "6d394bfc",
   "metadata": {},
   "outputs": [],
   "source": [
    "single = '/Users/sofialuk/Desktop/thesis/05_Expression barplots/calu3_12h/desingle.csv'\n",
    "pseudo = '/Users/sofialuk/Desktop/thesis/05_Expression barplots/calu3_12h/deseq.csv'\n",
    "counts = '/Users/sofialuk/Desktop/thesis/05_Expression barplots/calu3_12h/counts.csv'\n",
    "\n",
    "deseq = pd.read_csv(pseudo)\n",
    "deseq = deseq[(deseq['padj'] < 0.01)]\n",
    "deseq = deseq.sort_values(by='log2FoldChange', ascending=False, key=abs)\n",
    "\n",
    "deseq.index = deseq['Unnamed: 0']\n",
    "top_pseudo = deseq.index\n",
    "\n",
    "\n",
    "singe = pd.read_csv(single)\n",
    "singe = singe[(singe['pvalue.adj.FDR'] < 0.01) & (singe['norm_foldChange'].abs() > 1)]\n",
    "\n",
    "desingle_copy = singe.copy()\n",
    "desingle_copy.loc[:, 'log2FoldChange'] = np.log2(desingle_copy['norm_foldChange'])\n",
    "desingle = desingle_copy\n",
    "\n",
    "desingle = desingle.sort_values(by='chi2LR1', ascending=False, key=abs)\n",
    "top_single = desingle.index\n",
    "\n",
    "\n",
    "top_pseudo & top_single"
   ]
  },
  {
   "cell_type": "code",
   "execution_count": null,
   "id": "3b6225ef",
   "metadata": {},
   "outputs": [],
   "source": [
    "import pandas as pd\n",
    "import numpy as np\n",
    "import os\n",
    "\n",
    "def get_top_pseudo(folder_path):\n",
    "    pseudo = os.path.join(folder_path, 'deseq.csv')\n",
    "    deseq = pd.read_csv(pseudo)\n",
    "    deseq = deseq[(deseq['padj'] < 0.01)]\n",
    "    deseq = deseq.sort_values(by='log2FoldChange', ascending=False, key=abs)\n",
    "    deseq.index = deseq['Unnamed: 0']\n",
    "    top_pseudo = deseq.index\n",
    "    return top_pseudo\n",
    "\n",
    "def get_top_single(folder_path):\n",
    "    single = os.path.join(folder_path, 'desingle.csv')\n",
    "    singe = pd.read_csv(single)\n",
    "    singe = singe[(singe['pvalue.adj.FDR'] < 0.01) & (singe['norm_foldChange'].abs() > 1)]\n",
    "    desingle_copy = singe.copy()\n",
    "    desingle_copy.loc[:, 'log2FoldChange'] = np.log2(desingle_copy['norm_foldChange'])\n",
    "    desingle = desingle_copy\n",
    "    desingle = desingle.sort_values(by='chi2LR1', ascending=False, key=abs)\n",
    "    top_single = desingle.index\n",
    "    return top_single\n",
    "\n",
    "def get_common_genes(top_pseudo, top_single):\n",
    "    return top_pseudo & top_single\n",
    "\n",
    "folder_names = ['calu3_8h', 'calu3_12h', 'h1299_12h', 'h1299_24h', 'h1299_36h']\n",
    "\n",
    "for folder_name in folder_names:\n",
    "    folder_path = os.path.join('/Users/sofialuk/Desktop/thesis/05_Expression barplots', folder_name)\n",
    "    top_pseudo = get_top_pseudo(folder_path)\n",
    "    top_single = get_top_single(folder_path)\n",
    "    common_genes = get_common_genes(top_pseudo, top_single)\n",
    "    \n",
    "\n",
    "    print(f\"Common genes in  {folder_name}: {len(common_genes)}\", common_genes)\n"
   ]
  },
  {
   "cell_type": "code",
   "execution_count": null,
   "id": "92d91b9a",
   "metadata": {},
   "outputs": [],
   "source": [
    "folder_names = ['calu3_8h', 'calu3_12h', 'h1299_12h', 'h1299_24h', 'h1299_36h']\n",
    "folder_dict = {}\n",
    "\n",
    "for folder_name in folder_names:\n",
    "    single = f'/Users/sofialuk/Desktop/thesis/05_Expression barplots/{folder_name}/desingle.csv'\n",
    "    pseudo = f'/Users/sofialuk/Desktop/thesis/05_Expression barplots/{folder_name}/deseq.csv'\n",
    "    counts = f'/Users/sofialuk/Desktop/thesis/05_Expression barplots/{folder_name}/counts.csv'\n",
    "\n",
    "    deseq = pd.read_csv(pseudo)\n",
    "    deseq = deseq[(deseq['padj'] < 0.01)]\n",
    "    deseq = deseq.sort_values(by='log2FoldChange', ascending=False, key=abs)\n",
    "    deseq = deseq[deseq['log2FoldChange'].abs() > 1]\n",
    "    deseq.index = deseq['Unnamed: 0']\n",
    "    top_pseudo = deseq.index\n",
    "\n",
    "    singe = pd.read_csv(single)\n",
    "    singe = singe[(singe['pvalue.adj.FDR'] < 0.01) & (singe['norm_foldChange'].abs() > 1)]\n",
    "    desingle_copy = singe.copy()\n",
    "    desingle_copy.loc[:, 'log2FoldChange'] = np.log2(desingle_copy['norm_foldChange'])\n",
    "    desingle = desingle_copy\n",
    "    desingle = desingle[(desingle['log2FoldChange'].abs() > 1)]\n",
    "    desingle = desingle.sort_values(by='chi2LR1', ascending=False, key=abs)\n",
    "    top_single = desingle.index\n",
    "\n",
    "    intersection = get_common_genes(top_pseudo, top_single)\n",
    "    folder_dict[folder_name] = {'top_pseudo': top_pseudo, 'top_single': top_single, 'intersection': intersection}\n"
   ]
  },
  {
   "cell_type": "code",
   "execution_count": null,
   "id": "a1440d9f",
   "metadata": {},
   "outputs": [],
   "source": [
    "folder_dict['calu3_8h']['intersection']"
   ]
  },
  {
   "cell_type": "code",
   "execution_count": null,
   "id": "0260dfe6",
   "metadata": {},
   "outputs": [],
   "source": []
  },
  {
   "cell_type": "code",
   "execution_count": null,
   "id": "b43d40fe",
   "metadata": {},
   "outputs": [],
   "source": []
  },
  {
   "cell_type": "code",
   "execution_count": null,
   "id": "f28ddb92",
   "metadata": {},
   "outputs": [],
   "source": []
  }
 ],
 "metadata": {
  "kernelspec": {
   "display_name": "Python 3 (ipykernel)",
   "language": "python",
   "name": "python3"
  },
  "language_info": {
   "codemirror_mode": {
    "name": "ipython",
    "version": 3
   },
   "file_extension": ".py",
   "mimetype": "text/x-python",
   "name": "python",
   "nbconvert_exporter": "python",
   "pygments_lexer": "ipython3",
   "version": "3.10.11"
  }
 },
 "nbformat": 4,
 "nbformat_minor": 5
}
